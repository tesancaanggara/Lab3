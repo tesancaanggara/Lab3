{
 "cells": [
  {
   "cell_type": "markdown",
   "metadata": {},
   "source": [
    "Bonus Project "
   ]
  },
  {
   "cell_type": "markdown",
   "metadata": {},
   "source": [
    "Tesanca Anggara 洪鳳璘"
   ]
  },
  {
   "cell_type": "markdown",
   "metadata": {},
   "source": [
    "1. Load the Dataset"
   ]
  },
  {
   "cell_type": "markdown",
   "metadata": {},
   "source": [
    "command : \n",
    "\n",
    "Import pandas as pd for load the data, import matplotlib.pyplot as plt to create plot"
   ]
  },
  {
   "cell_type": "markdown",
   "metadata": {},
   "source": [
    "output : \n",
    "\n",
    "Pandas and matplotlib.pyplot are imported"
   ]
  },
  {
   "cell_type": "code",
   "execution_count": 3,
   "metadata": {},
   "outputs": [],
   "source": [
    "import pandas as pd\n",
    "import matplotlib.pyplot as plt"
   ]
  },
  {
   "cell_type": "markdown",
   "metadata": {},
   "source": [
    "command : \n",
    "\n",
    "Read the monthly_sales data to pd and we named it df"
   ]
  },
  {
   "cell_type": "markdown",
   "metadata": {},
   "source": [
    "output : \n",
    "\n",
    "df has already become the imported data as pd"
   ]
  },
  {
   "cell_type": "code",
   "execution_count": 4,
   "metadata": {},
   "outputs": [],
   "source": [
    "df = pd.read_csv(\"/Users/hermawansutrisno/Documents/tesanca's/S2/SEMESTER 1/data science/monthly_sales.csv\")"
   ]
  },
  {
   "cell_type": "markdown",
   "metadata": {},
   "source": [
    "command : \n",
    "\n",
    "To check (rows, columns)"
   ]
  },
  {
   "cell_type": "markdown",
   "metadata": {},
   "source": [
    "output : \n",
    "\n",
    "It means there are 12 rows and 2 columns"
   ]
  },
  {
   "cell_type": "code",
   "execution_count": 6,
   "metadata": {},
   "outputs": [
    {
     "data": {
      "text/plain": [
       "(12, 2)"
      ]
     },
     "execution_count": 6,
     "metadata": {},
     "output_type": "execute_result"
    }
   ],
   "source": [
    "df.shape"
   ]
  },
  {
   "cell_type": "markdown",
   "metadata": {},
   "source": [
    "command : \n",
    "\n",
    "To know every information about the data (column, rows, column names, data type)"
   ]
  },
  {
   "cell_type": "markdown",
   "metadata": {},
   "source": [
    "output : \n",
    "\n",
    "There are 12 rows, 2 columns, column names (Month and Sales), data type: int64(1), object(1)"
   ]
  },
  {
   "cell_type": "code",
   "execution_count": 7,
   "metadata": {},
   "outputs": [
    {
     "name": "stdout",
     "output_type": "stream",
     "text": [
      "<class 'pandas.core.frame.DataFrame'>\n",
      "RangeIndex: 12 entries, 0 to 11\n",
      "Data columns (total 2 columns):\n",
      " #   Column  Non-Null Count  Dtype \n",
      "---  ------  --------------  ----- \n",
      " 0   Month   12 non-null     object\n",
      " 1   Sales   12 non-null     int64 \n",
      "dtypes: int64(1), object(1)\n",
      "memory usage: 324.0+ bytes\n"
     ]
    }
   ],
   "source": [
    "df.info()"
   ]
  },
  {
   "cell_type": "markdown",
   "metadata": {},
   "source": [
    "command : \n",
    "\n",
    "To know the first few rows of data"
   ]
  },
  {
   "cell_type": "markdown",
   "metadata": {},
   "source": [
    "output : \n",
    "\n",
    "It shows the first 5 rows and 2 columns of the data"
   ]
  },
  {
   "cell_type": "code",
   "execution_count": 8,
   "metadata": {},
   "outputs": [
    {
     "data": {
      "text/html": [
       "<div>\n",
       "<style scoped>\n",
       "    .dataframe tbody tr th:only-of-type {\n",
       "        vertical-align: middle;\n",
       "    }\n",
       "\n",
       "    .dataframe tbody tr th {\n",
       "        vertical-align: top;\n",
       "    }\n",
       "\n",
       "    .dataframe thead th {\n",
       "        text-align: right;\n",
       "    }\n",
       "</style>\n",
       "<table border=\"1\" class=\"dataframe\">\n",
       "  <thead>\n",
       "    <tr style=\"text-align: right;\">\n",
       "      <th></th>\n",
       "      <th>Month</th>\n",
       "      <th>Sales</th>\n",
       "    </tr>\n",
       "  </thead>\n",
       "  <tbody>\n",
       "    <tr>\n",
       "      <th>0</th>\n",
       "      <td>January</td>\n",
       "      <td>1000</td>\n",
       "    </tr>\n",
       "    <tr>\n",
       "      <th>1</th>\n",
       "      <td>February</td>\n",
       "      <td>1500</td>\n",
       "    </tr>\n",
       "    <tr>\n",
       "      <th>2</th>\n",
       "      <td>March</td>\n",
       "      <td>1200</td>\n",
       "    </tr>\n",
       "    <tr>\n",
       "      <th>3</th>\n",
       "      <td>April</td>\n",
       "      <td>1700</td>\n",
       "    </tr>\n",
       "    <tr>\n",
       "      <th>4</th>\n",
       "      <td>May</td>\n",
       "      <td>1600</td>\n",
       "    </tr>\n",
       "  </tbody>\n",
       "</table>\n",
       "</div>"
      ],
      "text/plain": [
       "      Month  Sales\n",
       "0   January   1000\n",
       "1  February   1500\n",
       "2     March   1200\n",
       "3     April   1700\n",
       "4       May   1600"
      ]
     },
     "execution_count": 8,
     "metadata": {},
     "output_type": "execute_result"
    }
   ],
   "source": [
    "df.head()"
   ]
  },
  {
   "cell_type": "markdown",
   "metadata": {},
   "source": [
    "command : \n",
    "\n",
    "To know the last few rows of data"
   ]
  },
  {
   "cell_type": "markdown",
   "metadata": {},
   "source": [
    "output : \n",
    "\n",
    "It shows the last 5 rows and 2 columns of the data"
   ]
  },
  {
   "cell_type": "code",
   "execution_count": 9,
   "metadata": {},
   "outputs": [
    {
     "data": {
      "text/html": [
       "<div>\n",
       "<style scoped>\n",
       "    .dataframe tbody tr th:only-of-type {\n",
       "        vertical-align: middle;\n",
       "    }\n",
       "\n",
       "    .dataframe tbody tr th {\n",
       "        vertical-align: top;\n",
       "    }\n",
       "\n",
       "    .dataframe thead th {\n",
       "        text-align: right;\n",
       "    }\n",
       "</style>\n",
       "<table border=\"1\" class=\"dataframe\">\n",
       "  <thead>\n",
       "    <tr style=\"text-align: right;\">\n",
       "      <th></th>\n",
       "      <th>Month</th>\n",
       "      <th>Sales</th>\n",
       "    </tr>\n",
       "  </thead>\n",
       "  <tbody>\n",
       "    <tr>\n",
       "      <th>7</th>\n",
       "      <td>August</td>\n",
       "      <td>1900</td>\n",
       "    </tr>\n",
       "    <tr>\n",
       "      <th>8</th>\n",
       "      <td>September</td>\n",
       "      <td>2200</td>\n",
       "    </tr>\n",
       "    <tr>\n",
       "      <th>9</th>\n",
       "      <td>October</td>\n",
       "      <td>2100</td>\n",
       "    </tr>\n",
       "    <tr>\n",
       "      <th>10</th>\n",
       "      <td>November</td>\n",
       "      <td>2300</td>\n",
       "    </tr>\n",
       "    <tr>\n",
       "      <th>11</th>\n",
       "      <td>December</td>\n",
       "      <td>2500</td>\n",
       "    </tr>\n",
       "  </tbody>\n",
       "</table>\n",
       "</div>"
      ],
      "text/plain": [
       "        Month  Sales\n",
       "7      August   1900\n",
       "8   September   2200\n",
       "9     October   2100\n",
       "10   November   2300\n",
       "11   December   2500"
      ]
     },
     "execution_count": 9,
     "metadata": {},
     "output_type": "execute_result"
    }
   ],
   "source": [
    "df.tail()"
   ]
  },
  {
   "cell_type": "markdown",
   "metadata": {},
   "source": [
    "2. Data Cleaning"
   ]
  },
  {
   "cell_type": "markdown",
   "metadata": {},
   "source": [
    "command : \n",
    "\n",
    "To check wether there is missing value or no"
   ]
  },
  {
   "cell_type": "markdown",
   "metadata": {},
   "source": [
    "output : \n",
    "\n",
    "There is no missing values on month and sales"
   ]
  },
  {
   "cell_type": "code",
   "execution_count": 11,
   "metadata": {},
   "outputs": [
    {
     "data": {
      "text/plain": [
       "Month    0\n",
       "Sales    0\n",
       "dtype: int64"
      ]
     },
     "execution_count": 11,
     "metadata": {},
     "output_type": "execute_result"
    }
   ],
   "source": [
    "df.isnull().sum()"
   ]
  },
  {
   "cell_type": "markdown",
   "metadata": {},
   "source": [
    "3. Exploratory Data Analysis (EDA)"
   ]
  },
  {
   "cell_type": "markdown",
   "metadata": {},
   "source": [
    "command : \n",
    "\n",
    "df.describe(), to describe count(number of no missing values in Sales), mean (total average in Sales), min (lowest values in Sales), max (highest values in sales)"
   ]
  },
  {
   "cell_type": "markdown",
   "metadata": {},
   "source": [
    "output : \n",
    "\n",
    "count (there are 12 values), mean (the average is 1816.6), min (lowest value is 1000), max(highest value is 2500)"
   ]
  },
  {
   "cell_type": "code",
   "execution_count": 12,
   "metadata": {},
   "outputs": [
    {
     "name": "stdout",
     "output_type": "stream",
     "text": [
      "             Sales\n",
      "count    12.000000\n",
      "mean   1816.666667\n",
      "std     444.835686\n",
      "min    1000.000000\n",
      "25%    1575.000000\n",
      "50%    1850.000000\n",
      "75%    2125.000000\n",
      "max    2500.000000\n"
     ]
    }
   ],
   "source": [
    "print(df.describe())"
   ]
  },
  {
   "cell_type": "markdown",
   "metadata": {},
   "source": [
    "command : \n",
    "\n",
    "We want to clarify the lowest_sales(min), highest_sales(max), average_sales(mean), total_sales(sum) from our data (df['Sales'])"
   ]
  },
  {
   "cell_type": "markdown",
   "metadata": {},
   "source": [
    "output : \n",
    "\n",
    "So now we can see all the highest, lowest, average, and total sales clearly "
   ]
  },
  {
   "cell_type": "code",
   "execution_count": 21,
   "metadata": {},
   "outputs": [
    {
     "name": "stdout",
     "output_type": "stream",
     "text": [
      "Lowest_sales  : 1000\n",
      "Highest_sales : 2500\n",
      "Average_sales : 1816.6666666666667\n",
      "Total_sales   : 21800\n"
     ]
    }
   ],
   "source": [
    "lowest_sales = df['Sales'].min()\n",
    "highest_sales = df['Sales'].max()\n",
    "average_sales = df['Sales'].mean()\n",
    "total_sales = df['Sales'].sum()\n",
    "\n",
    "print(f\"Lowest_sales  : {lowest_sales}\")\n",
    "print(f\"Highest_sales : {highest_sales}\")\n",
    "print(f\"Average_sales : {average_sales}\")\n",
    "print(f\"Total_sales   : {total_sales}\")"
   ]
  },
  {
   "cell_type": "markdown",
   "metadata": {},
   "source": [
    "4. Data Visualization "
   ]
  },
  {
   "cell_type": "markdown",
   "metadata": {},
   "source": [
    "command : \n",
    "\n",
    "listx (will appear Month data(df) for x-axis)\n",
    "\n",
    " listy(will appear Sales data(df) for y-axis)\n",
    " \n",
    "  figsize(to specidy the wide and tall in inches)\n",
    "  \n",
    "  plt.plot (is command to make the graphs and we colour it with green also with the point marker every month with dot)\n",
    "  \n",
    "  plt.grid(to make grid in the background so we can see the graph more clearly)\n",
    "  \n",
    "  plt.title(we want to name the graph 'Monthly Sales')\n",
    "  \n",
    "  plt.xticks(we want each month to fit in the graph, so we want to rotate the word a little bit. so all months will fit.) "
   ]
  },
  {
   "cell_type": "markdown",
   "metadata": {},
   "source": [
    "output :\n",
    "\n",
    "We can see that overall sales is increasing. But there are 4 times the sales were decreasing on March, May, August, and October. And from the grpahs we can see that we reach the highest sales on December which is 2500 and the lowest is on January for 1000"
   ]
  },
  {
   "cell_type": "code",
   "execution_count": 49,
   "metadata": {},
   "outputs": [
    {
     "data": {
      "image/png": "[encoded data removed]",
      "text/plain": [
       "<Figure size 640x480 with 1 Axes>"
      ]
     },
     "metadata": {},
     "output_type": "display_data"
    }
   ],
   "source": [
    "listx = df['Month']\n",
    "listy = df['Sales']\n",
    "figsize = (15,10)\n",
    "plt.plot(listx, listy,color = 'green', marker = 'o')\n",
    "plt.grid()\n",
    "plt.title('Monthly Sales')\n",
    "plt.xticks(rotation= 35)\n",
    "plt.show()"
   ]
  }
 ],
 "metadata": {
  "kernelspec": {
   "display_name": "Python 3",
   "language": "python",
   "name": "python3"
  },
  "language_info": {
   "codemirror_mode": {
    "name": "ipython",
    "version": 3
   },
   "file_extension": ".py",
   "mimetype": "text/x-python",
   "name": "python",
   "nbconvert_exporter": "python",
   "pygments_lexer": "ipython3",
   "version": "3.12.2"
  }
 },
 "nbformat": 4,
 "nbformat_minor": 2
}
