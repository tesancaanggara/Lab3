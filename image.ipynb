{
 "cells": [
  {
   "cell_type": "code",
   "execution_count": 14,
   "metadata": {},
   "outputs": [],
   "source": [
    "#\n",
    "# Classify cats and dogs\n",
    "# Tesanca Anggara\n",
    "#\n",
    "\n",
    "import os\n",
    "import shutil\n",
    "import tensorflow as tf\n",
    "from tensorflow.keras.applications.resnet50 import ResNet50, preprocess_input, decode_predictions\n",
    "from tensorflow.keras.preprocessing import image\n",
    "import numpy as np"
   ]
  },
  {
   "cell_type": "code",
   "execution_count": 20,
   "metadata": {},
   "outputs": [],
   "source": [
    "# \n",
    "# Path to the folders\n",
    "# \n",
    "input_folder = 'images'\n",
    "cat_folder = 'images/cats'\n",
    "dog_folder = 'images/dogs'\n",
    "lemon_folder = 'images/lemons'"
   ]
  },
  {
   "cell_type": "code",
   "execution_count": 16,
   "metadata": {},
   "outputs": [],
   "source": [
    "#\n",
    "# Load pre-trained ResNet50 model + higher level layers\n",
    "#\n",
    "model = ResNet50(weights='imagenet')"
   ]
  },
  {
   "cell_type": "code",
   "execution_count": 27,
   "metadata": {},
   "outputs": [],
   "source": [
    "#\n",
    "# List of known dog classes\n",
    "#\n",
    "\n",
    "lemon_classes = [\n",
    "    'lemon'\n",
    "]\n",
    "lemon_classes = [element.lower() for element in lemon_classes]\n",
    "cat_classes = [\n",
    "    'tabby', 'tiger_cat', 'Persian_cat', 'Siamese_cat', 'Egyptian_cat',\n",
    "    'cougar', 'lynx', 'leopard', 'snow_leopard', 'jaguar', 'lion', 'cheetah'\n",
    "]\n",
    "cat_classes = [element.lower() for element in cat_classes]\n",
    " \n",
    "dog_classes = [\n",
    "    'Chihuahua', 'Japanese_spaniel', 'Maltese_dog', 'Pekinese', 'Shih-Tzu', 'Blenheim_spaniel',\n",
    "    'papillon', 'toy_terrier', 'Rhodesian_ridgeback', 'Afghan_hound', 'basset', 'beagle',\n",
    "    'bloodhound', 'bluetick', 'black-and-tan_coonhound', 'Walker_hound', 'English_foxhound',\n",
    "    'redbone', 'borzoi', 'Irish_wolfhound', 'Italian_greyhound', 'whippet', 'Ibizan_hound',\n",
    "    'Norwegian_elkhound', 'otterhound', 'Saluki', 'Scottish_deerhound', 'Weimaraner',\n",
    "    'Staffordshire_bullterrier', 'American_Staffordshire_terrier', 'Bedlington_terrier',\n",
    "    'Border_terrier', 'Kerry_blue_terrier', 'Irish_terrier', 'Norfolk_terrier', 'Norwich_terrier',\n",
    "    'Yorkshire_terrier', 'wire-haired_fox_terrier', 'Lakeland_terrier', 'Sealyham_terrier',\n",
    "    'Airedale', 'cairn', 'Australian_terrier', 'Dandie_Dinmont', 'Boston_bull', 'miniature_schnauzer',\n",
    "    'giant_schnauzer', 'standard_schnauzer', 'Scotch_terrier', 'Tibetan_terrier', 'silky_terrier',\n",
    "    'soft-coated_wheaten_terrier', 'West_Highland_white_terrier', 'Lhasa', 'flat-coated_retriever',\n",
    "    'curly-coated_retriever', 'Golden_retriever', 'Labrador_retriever', 'Chesapeake_Bay_retriever',\n",
    "    'German_short-haired_pointer', 'vizsla', 'English_setter', 'Irish_setter', 'Gordon_setter',\n",
    "    'Brittany_spaniel', 'clumber', 'English_springer', 'Welsh_springer_spaniel', 'cocker_spaniel',\n",
    "    'Sussex_spaniel', 'Irish_water_spaniel', 'kuvasz', 'schipperke', 'groenendael', 'malinois',\n",
    "    'briard', 'kelpie', 'komondor', 'Old_English_sheepdog', 'Shetland_sheepdog', 'collie',\n",
    "    'Border_collie', 'Bouvier_des_Flandres', 'Rottweiler', 'German_shepherd', 'Doberman',\n",
    "    'miniature_pinscher', 'Greater_Swiss_Mountain_dog', 'Bernese_mountain_dog', 'Appenzeller',\n",
    "    'EntleBucher', 'boxer', 'bull_mastiff', 'Tibetan_mastiff', 'French_bulldog', 'Great_Dane',\n",
    "    'Saint_Bernard', 'Eskimo_dog', 'malamute', 'Siberian_husky', 'affenpinscher', 'basenji',\n",
    "    'pug', 'Leonberg', 'Newfoundland', 'Great_Pyrenees', 'Samoyed', 'Pomeranian', 'chow',\n",
    "    'keeshond', 'Brabancon_griffon', 'Pembroke', 'Cardigan', 'toy_poodle', 'miniature_poodle',\n",
    "    'standard_poodle', 'Mexican_hairless', 'dingo', 'dhole', 'African_hunting_dog'\n",
    "]\n",
    "dog_classes = [element.lower() for element in dog_classes]"
   ]
  },
  {
   "cell_type": "code",
   "execution_count": 28,
   "metadata": {},
   "outputs": [],
   "source": [
    "#\n",
    "# Function to classify an image\n",
    "#\n",
    "def classify_image(img_path):\n",
    "    img = image.load_img(img_path, target_size=(224, 224))\n",
    "    x = image.img_to_array(img)\n",
    "    x = np.expand_dims(x, axis=0)\n",
    "    x = preprocess_input(x)\n",
    " \n",
    "    preds = model.predict(x)\n",
    "    return decode_predictions(preds, top=1)[0][0][1]  # returns the class name"
   ]
  },
  {
   "cell_type": "code",
   "execution_count": 29,
   "metadata": {},
   "outputs": [
    {
     "name": "stdout",
     "output_type": "stream",
     "text": [
      "Processing lemon1.jpg...\n",
      "\u001b[1m1/1\u001b[0m \u001b[32m━━━━━━━━━━━━━━━━━━━━\u001b[0m\u001b[37m\u001b[0m \u001b[1m1s\u001b[0m 771ms/step\n",
      "lemon\n",
      "lemon1.jpg moved to images/lemons\n",
      "Processing lemon3.jpg...\n",
      "\u001b[1m1/1\u001b[0m \u001b[32m━━━━━━━━━━━━━━━━━━━━\u001b[0m\u001b[37m\u001b[0m \u001b[1m0s\u001b[0m 159ms/step\n",
      "lemon\n",
      "lemon3.jpg moved to images/lemons\n",
      "Processing lemon2.jpg...\n",
      "\u001b[1m1/1\u001b[0m \u001b[32m━━━━━━━━━━━━━━━━━━━━\u001b[0m\u001b[37m\u001b[0m \u001b[1m0s\u001b[0m 222ms/step\n",
      "lemon\n",
      "lemon2.jpg moved to images/lemons\n",
      "Processing complete.\n"
     ]
    }
   ],
   "source": [
    "#\n",
    "# Process each image in the input folder\n",
    "#\n",
    "for filename in os.listdir(input_folder):\n",
    "    if filename.endswith(('.jpg', '.jpeg', '.png')):  # Check if the file is an image\n",
    "        img_path = os.path.join(input_folder, filename)\n",
    "        print(f'Processing {filename}...')\n",
    "       \n",
    "        # Classify the image\n",
    "        classification = classify_image(img_path)\n",
    "        print(classification)\n",
    "        classification = classification.lower()\n",
    "        # Move the image to the appropriate folder\n",
    "        if classification in cat_classes:\n",
    "            shutil.move(img_path, os.path.join(cat_folder, filename))\n",
    "            print(f'{filename} moved to {cat_folder}')\n",
    "        elif classification in lemon_classes:\n",
    "            shutil.move(img_path, os.path.join(lemon_folder, filename))\n",
    "            print(f'{filename} moved to {lemon_folder}')\n",
    "        elif classification in dog_classes:\n",
    "            shutil.move(img_path, os.path.join(dog_folder, filename))\n",
    "            print(f'{filename} moved to {dog_folder}')\n",
    "        else:\n",
    "            print(f'{filename} is not a cat or dog.')\n",
    " \n",
    "print('Processing complete.')"
   ]
  }
 ],
 "metadata": {
  "kernelspec": {
   "display_name": "Python 3",
   "language": "python",
   "name": "python3"
  },
  "language_info": {
   "codemirror_mode": {
    "name": "ipython",
    "version": 3
   },
   "file_extension": ".py",
   "mimetype": "text/x-python",
   "name": "python",
   "nbconvert_exporter": "python",
   "pygments_lexer": "ipython3",
   "version": "3.12.2"
  }
 },
 "nbformat": 4,
 "nbformat_minor": 2
}
